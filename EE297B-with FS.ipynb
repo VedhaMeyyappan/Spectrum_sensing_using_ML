{
 "cells": [
  {
   "cell_type": "code",
   "execution_count": 2,
   "metadata": {},
   "outputs": [],
   "source": [
    "from keras.layers import LSTM, Bidirectional\n",
    "from keras.models import Sequential\n"
   ]
  },
  {
   "cell_type": "code",
   "execution_count": 3,
   "metadata": {},
   "outputs": [],
   "source": [
    "from sklearn import datasets\n",
    "#import matplotlib.pyplot as plt\n",
    "from sklearn import datasets\n",
    "import pandas as pd\n",
    "import os\n",
    "import numpy as np\n",
    "from numpy.random import seed\n",
    "from numpy.random import randn\n",
    "from numpy import mean\n",
    "from numpy import std\n",
    "import fnmatch as fn\n",
    "from sklearn import metrics"
   ]
  },
  {
   "cell_type": "code",
   "execution_count": 4,
   "metadata": {},
   "outputs": [],
   "source": [
    "# from scikit.learn.metrics import confusion_matrix"
   ]
  },
  {
   "cell_type": "code",
   "execution_count": 5,
   "metadata": {},
   "outputs": [],
   "source": [
    "#from sklearn.metrics import *\n",
    "from sklearn.metrics import confusion_matrix, classification_report,accuracy_score, f1_score\n",
    "from sklearn.metrics import fbeta_score\n",
    "import openpyxl"
   ]
  },
  {
   "cell_type": "code",
   "execution_count": 6,
   "metadata": {},
   "outputs": [
    {
     "name": "stderr",
     "output_type": "stream",
     "text": [
      "C:\\Users\\Admin\\Conda\\lib\\site-packages\\IPython\\core\\interactiveshell.py:3058: DtypeWarning: Columns (8) have mixed types. Specify dtype option on import or set low_memory=False.\n",
      "  interactivity=interactivity, compiler=compiler, result=result)\n"
     ]
    }
   ],
   "source": [
    "dataset = pd.read_csv('data_length.csv')"
   ]
  },
  {
   "cell_type": "code",
   "execution_count": 7,
   "metadata": {},
   "outputs": [
    {
     "name": "stdout",
     "output_type": "stream",
     "text": [
      "Index(['Unnamed: 0', 'Signal_power_2_7m', 'Signal_power_4_7m',\n",
      "       'Signal_power_5_7m', 'Occupancy', 'Unnamed: 5', 'Unnamed: 6',\n",
      "       'Unnamed: 7', 'Unnamed: 8'],\n",
      "      dtype='object')\n"
     ]
    }
   ],
   "source": [
    "print(dataset.keys())"
   ]
  },
  {
   "cell_type": "code",
   "execution_count": 8,
   "metadata": {},
   "outputs": [],
   "source": [
    "from scipy.stats import kurtosis"
   ]
  },
  {
   "cell_type": "code",
   "execution_count": 9,
   "metadata": {},
   "outputs": [],
   "source": [
    "#Kurtosis\n",
    "kurt=[]\n",
    "kurt.append(kurtosis(dataset.Signal_power_2_7m[0]))\n",
    "for i in range(2,161):\n",
    "    kurt.append(kurtosis(dataset.Signal_power_2_7m[0:i]))   "
   ]
  },
  {
   "cell_type": "code",
   "execution_count": 10,
   "metadata": {},
   "outputs": [],
   "source": [
    "length = len(dataset)-160\n",
    "for i in range(0,length):\n",
    "    kurt.append(kurtosis(dataset.Signal_power_2_7m[i:i+161]))  \n",
    "#print (kurt)   "
   ]
  },
  {
   "cell_type": "code",
   "execution_count": 11,
   "metadata": {},
   "outputs": [],
   "source": [
    "dataset['K']=kurt"
   ]
  },
  {
   "cell_type": "code",
   "execution_count": 12,
   "metadata": {},
   "outputs": [],
   "source": [
    "#Kurtosis\n",
    "kurt1=[]\n",
    "kurt1.append(kurtosis(dataset.Signal_power_4_7m[0]))\n",
    "for i in range(2,161):\n",
    "    kurt1.append(kurtosis(dataset.Signal_power_4_7m[0:i]))   "
   ]
  },
  {
   "cell_type": "code",
   "execution_count": 13,
   "metadata": {},
   "outputs": [],
   "source": [
    "#length = len(dataset)-160\n",
    "for i in range(0,length):\n",
    "    kurt1.append(kurtosis(dataset.Signal_power_4_7m[i:i+161])) "
   ]
  },
  {
   "cell_type": "code",
   "execution_count": 14,
   "metadata": {},
   "outputs": [],
   "source": [
    "dataset['K4_7']=kurt1"
   ]
  },
  {
   "cell_type": "code",
   "execution_count": 15,
   "metadata": {},
   "outputs": [],
   "source": [
    "#Kurtosis\n",
    "kurt2=[]\n",
    "kurt2.append(kurtosis(dataset.Signal_power_5_7m[0]))\n",
    "for i in range(2,161):\n",
    "    kurt2.append(kurtosis(dataset.Signal_power_5_7m[0:i]))   "
   ]
  },
  {
   "cell_type": "code",
   "execution_count": 16,
   "metadata": {},
   "outputs": [],
   "source": [
    "#length = len(dataset)-160\n",
    "for i in range(0,length):\n",
    "    kurt2.append(kurtosis(dataset.Signal_power_5_7m[i:i+161])) "
   ]
  },
  {
   "cell_type": "code",
   "execution_count": 17,
   "metadata": {},
   "outputs": [],
   "source": [
    "dataset['K5_7']=kurt2"
   ]
  },
  {
   "cell_type": "code",
   "execution_count": 18,
   "metadata": {},
   "outputs": [],
   "source": [
    "from scipy.stats import skew"
   ]
  },
  {
   "cell_type": "code",
   "execution_count": 19,
   "metadata": {},
   "outputs": [],
   "source": [
    "#Skewness\n",
    "Skew=[]\n",
    "Skew.append(skew(dataset.Signal_power_2_7m[0]))\n",
    "for i in range(2,161):\n",
    "    Skew.append(skew(dataset.Signal_power_2_7m[0:i])) \n",
    "    "
   ]
  },
  {
   "cell_type": "code",
   "execution_count": 20,
   "metadata": {},
   "outputs": [],
   "source": [
    "#length = len(dataset)-160\n",
    "for i in range(0,length):\n",
    "    Skew.append(skew(dataset.Signal_power_2_7m[i:i+161]))  "
   ]
  },
  {
   "cell_type": "code",
   "execution_count": 21,
   "metadata": {},
   "outputs": [],
   "source": [
    "dataset['Sk']=Skew"
   ]
  },
  {
   "cell_type": "code",
   "execution_count": 22,
   "metadata": {},
   "outputs": [],
   "source": [
    "#Skewness\n",
    "Skew1=[]\n",
    "Skew1.append(skew(dataset.Signal_power_4_7m[0]))\n",
    "for i in range(2,161):\n",
    "    Skew1.append(skew(dataset.Signal_power_4_7m[0:i])) \n",
    "    "
   ]
  },
  {
   "cell_type": "code",
   "execution_count": 23,
   "metadata": {},
   "outputs": [],
   "source": [
    "#length = len(dataset)-160\n",
    "for i in range(0,length):\n",
    "    Skew1.append(skew(dataset.Signal_power_4_7m[i:i+161]))  "
   ]
  },
  {
   "cell_type": "code",
   "execution_count": 24,
   "metadata": {},
   "outputs": [],
   "source": [
    "dataset['Sk4_7']=Skew1"
   ]
  },
  {
   "cell_type": "code",
   "execution_count": 25,
   "metadata": {},
   "outputs": [],
   "source": [
    "#Skewness\n",
    "Skew2=[]\n",
    "Skew2.append(skew(dataset.Signal_power_5_7m[0]))\n",
    "for i in range(2,161):\n",
    "    Skew2.append(skew(dataset.Signal_power_5_7m[0:i])) \n",
    "    "
   ]
  },
  {
   "cell_type": "code",
   "execution_count": 26,
   "metadata": {},
   "outputs": [],
   "source": [
    "#length = len(dataset)-160\n",
    "for i in range(0,length):\n",
    "    Skew2.append(skew(dataset.Signal_power_5_7m[i:i+161]))  "
   ]
  },
  {
   "cell_type": "code",
   "execution_count": 27,
   "metadata": {},
   "outputs": [],
   "source": [
    "dataset['Sk5_7']=Skew2"
   ]
  },
  {
   "cell_type": "code",
   "execution_count": 28,
   "metadata": {},
   "outputs": [],
   "source": [
    "# average\n",
    "Avg=[]\n",
    "Avg.append((dataset.Signal_power_2_7m[0]))\n",
    "for i in range(2,161):\n",
    "    Avg.append((sum(dataset.Signal_power_2_7m[0:i]))/i)"
   ]
  },
  {
   "cell_type": "code",
   "execution_count": 29,
   "metadata": {},
   "outputs": [],
   "source": [
    "#length = len(dataset)-160\n",
    "for i in range(0,length):\n",
    "    Avg.append((sum(dataset.Signal_power_2_7m[i:i+161]))/161)"
   ]
  },
  {
   "cell_type": "code",
   "execution_count": 30,
   "metadata": {},
   "outputs": [],
   "source": [
    "dataset['Avg']=Avg"
   ]
  },
  {
   "cell_type": "code",
   "execution_count": 31,
   "metadata": {},
   "outputs": [],
   "source": [
    "# average\n",
    "Avg1=[]\n",
    "Avg1.append((dataset.Signal_power_4_7m[0]))\n",
    "for i in range(2,161):\n",
    "    Avg1.append((sum(dataset.Signal_power_4_7m[0:i]))/i)"
   ]
  },
  {
   "cell_type": "code",
   "execution_count": 32,
   "metadata": {},
   "outputs": [],
   "source": [
    "#length = len(dataset)-160\n",
    "for i in range(0,length):\n",
    "    Avg1.append((sum(dataset.Signal_power_4_7m[i:i+161]))/161)"
   ]
  },
  {
   "cell_type": "code",
   "execution_count": 33,
   "metadata": {},
   "outputs": [],
   "source": [
    "dataset['Avg4_7']=Avg1"
   ]
  },
  {
   "cell_type": "code",
   "execution_count": 34,
   "metadata": {},
   "outputs": [],
   "source": [
    "# average\n",
    "Avg2=[]\n",
    "Avg2.append((dataset.Signal_power_5_7m[0]))\n",
    "for i in range(2,161):\n",
    "    Avg2.append((sum(dataset.Signal_power_5_7m[0:i]))/i)"
   ]
  },
  {
   "cell_type": "code",
   "execution_count": 35,
   "metadata": {},
   "outputs": [],
   "source": [
    "#length = len(dataset)-160\n",
    "for i in range(0,length):\n",
    "    Avg2.append((sum(dataset.Signal_power_5_7m[i:i+161]))/161)"
   ]
  },
  {
   "cell_type": "code",
   "execution_count": 36,
   "metadata": {},
   "outputs": [],
   "source": [
    "dataset['Avg5_7']=Avg2"
   ]
  },
  {
   "cell_type": "code",
   "execution_count": 37,
   "metadata": {},
   "outputs": [],
   "source": [
    "#max signal power\n",
    "Max=[]\n",
    "Max.append((dataset.Signal_power_2_7m[0]))\n",
    "for i in range(2,161):\n",
    "    Max.append(max(dataset.Signal_power_2_7m[0:i])) "
   ]
  },
  {
   "cell_type": "code",
   "execution_count": 38,
   "metadata": {},
   "outputs": [],
   "source": [
    "#length = len(dataset)-160\n",
    "for i in range(0,length):\n",
    "    Max.append(max(dataset.Signal_power_2_7m[i:i+161]))  "
   ]
  },
  {
   "cell_type": "code",
   "execution_count": 39,
   "metadata": {},
   "outputs": [],
   "source": [
    "dataset['Max_Signal']=Max"
   ]
  },
  {
   "cell_type": "code",
   "execution_count": 40,
   "metadata": {},
   "outputs": [],
   "source": [
    "Max1=[]\n",
    "Max1.append((dataset.Signal_power_4_7m[0]))\n",
    "for i in range(2,161):\n",
    "    Max1.append(max(dataset.Signal_power_4_7m[0:i])) "
   ]
  },
  {
   "cell_type": "code",
   "execution_count": 41,
   "metadata": {},
   "outputs": [],
   "source": [
    "#length = len(dataset)-160\n",
    "for i in range(0,length):\n",
    "    Max1.append(max(dataset.Signal_power_4_7m[i:i+161]))  "
   ]
  },
  {
   "cell_type": "code",
   "execution_count": 42,
   "metadata": {},
   "outputs": [],
   "source": [
    "dataset['Max4_7']=Max1"
   ]
  },
  {
   "cell_type": "code",
   "execution_count": 43,
   "metadata": {},
   "outputs": [],
   "source": [
    "Max2=[]\n",
    "Max2.append((dataset.Signal_power_5_7m[0]))\n",
    "for i in range(2,161):\n",
    "    Max2.append(max(dataset.Signal_power_5_7m[0:i])) "
   ]
  },
  {
   "cell_type": "code",
   "execution_count": 44,
   "metadata": {},
   "outputs": [],
   "source": [
    "#length = len(dataset)-160\n",
    "for i in range(0,length):\n",
    "    Max2.append(max(dataset.Signal_power_5_7m[i:i+161]))  "
   ]
  },
  {
   "cell_type": "code",
   "execution_count": 45,
   "metadata": {},
   "outputs": [],
   "source": [
    "dataset['Max5_7']=Max2"
   ]
  },
  {
   "cell_type": "code",
   "execution_count": 46,
   "metadata": {},
   "outputs": [],
   "source": [
    "#max-min difference\n",
    "Dif=[]\n",
    "Dif.append((dataset.Signal_power_2_7m[0]))\n",
    "for i in range(2,161):\n",
    "    Dif.append((max(dataset.Signal_power_2_7m[0:i]))-(min(dataset.Signal_power_2_7m[0:i]))) "
   ]
  },
  {
   "cell_type": "code",
   "execution_count": 47,
   "metadata": {},
   "outputs": [],
   "source": [
    "#length = len(dataset)-160\n",
    "for i in range(0,length):\n",
    "    Dif.append((max(dataset.Signal_power_2_7m[i:i+161]))-(min(dataset.Signal_power_2_7m[i:i+161])))  "
   ]
  },
  {
   "cell_type": "code",
   "execution_count": 48,
   "metadata": {},
   "outputs": [],
   "source": [
    "dataset['Min-Max']=Dif"
   ]
  },
  {
   "cell_type": "code",
   "execution_count": 49,
   "metadata": {},
   "outputs": [],
   "source": [
    "#max-min difference\n",
    "Dif1=[]\n",
    "Dif1.append((dataset.Signal_power_4_7m[0]))\n",
    "for i in range(2,161):\n",
    "    Dif1.append((max(dataset.Signal_power_4_7m[0:i]))-(min(dataset.Signal_power_4_7m[0:i]))) "
   ]
  },
  {
   "cell_type": "code",
   "execution_count": 50,
   "metadata": {},
   "outputs": [],
   "source": [
    "#length = len(dataset)-160\n",
    "for i in range(0,length):\n",
    "    Dif1.append((max(dataset.Signal_power_4_7m[i:i+161]))-(min(dataset.Signal_power_4_7m[i:i+161])))"
   ]
  },
  {
   "cell_type": "code",
   "execution_count": 51,
   "metadata": {},
   "outputs": [],
   "source": [
    "dataset['Min-Max_4_7']=Dif1"
   ]
  },
  {
   "cell_type": "code",
   "execution_count": 52,
   "metadata": {},
   "outputs": [],
   "source": [
    "#max-min difference\n",
    "Dif2=[]\n",
    "Dif2.append((dataset.Signal_power_5_7m[0]))\n",
    "for i in range(2,161):\n",
    "    Dif2.append((max(dataset.Signal_power_5_7m[0:i]))-(min(dataset.Signal_power_5_7m[0:i]))) "
   ]
  },
  {
   "cell_type": "code",
   "execution_count": 53,
   "metadata": {},
   "outputs": [],
   "source": [
    "#length = len(dataset)-160\n",
    "for i in range(0,length):\n",
    "    Dif2.append((max(dataset.Signal_power_5_7m[i:i+161]))-(min(dataset.Signal_power_5_7m[i:i+161])))"
   ]
  },
  {
   "cell_type": "code",
   "execution_count": 54,
   "metadata": {},
   "outputs": [],
   "source": [
    "dataset['Min-Max_5_7']=Dif2"
   ]
  },
  {
   "cell_type": "code",
   "execution_count": 55,
   "metadata": {},
   "outputs": [],
   "source": [
    "#central difference\n",
    "central_dif=[]\n",
    "length1 = len(dataset)\n",
    "for i in range(length1):\n",
    "    if i == 0:\n",
    "        diff = dataset.Signal_power_2_7m[i+1] - dataset.Signal_power_2_7m[i]\n",
    "        central_dif.append(diff)\n",
    "    elif i == 262168:\n",
    "        diff1 = dataset.Signal_power_2_7m[i] - dataset.Signal_power_2_7m[i-1]\n",
    "        central_dif.append(diff1)\n",
    "    else:\n",
    "        diff2 = dataset.Signal_power_2_7m[i+1] - dataset.Signal_power_2_7m[i-1]\n",
    "        central_dif.append(diff2)\n",
    "\n",
    "            "
   ]
  },
  {
   "cell_type": "code",
   "execution_count": 56,
   "metadata": {},
   "outputs": [],
   "source": [
    "dataset['CD']=central_dif"
   ]
  },
  {
   "cell_type": "code",
   "execution_count": 57,
   "metadata": {},
   "outputs": [],
   "source": [
    "#central difference\n",
    "central_dif1=[]\n",
    "#length = len(dataset)\n",
    "for i in range(length1):\n",
    "    if i == 0:\n",
    "        diff3 = dataset.Signal_power_4_7m[i+1] - dataset.Signal_power_4_7m[i]\n",
    "        central_dif1.append(diff3)\n",
    "    elif i == 262168:\n",
    "        diff4 = dataset.Signal_power_4_7m[i] - dataset.Signal_power_4_7m[i-1]\n",
    "        central_dif1.append(diff4)\n",
    "    else:\n",
    "        diff5 = dataset.Signal_power_4_7m[i+1] - dataset.Signal_power_4_7m[i-1]\n",
    "        central_dif1.append(diff5)"
   ]
  },
  {
   "cell_type": "code",
   "execution_count": 58,
   "metadata": {},
   "outputs": [],
   "source": [
    "dataset['CD_4_7']=central_dif1"
   ]
  },
  {
   "cell_type": "code",
   "execution_count": 59,
   "metadata": {},
   "outputs": [],
   "source": [
    "#central difference\n",
    "central_dif2=[]\n",
    "#length = len(dataset)\n",
    "for i in range(length1):\n",
    "    if i == 0:\n",
    "        diff6 = dataset.Signal_power_5_7m[i+1] - dataset.Signal_power_5_7m[i]\n",
    "        central_dif2.append(diff6)\n",
    "    elif i == 262168:\n",
    "        diff7 = dataset.Signal_power_5_7m[i] - dataset.Signal_power_5_7m[i-1]\n",
    "        central_dif2.append(diff7)\n",
    "    else:\n",
    "        diff8 = dataset.Signal_power_5_7m[i+1] - dataset.Signal_power_5_7m[i-1]\n",
    "        central_dif2.append(diff8)"
   ]
  },
  {
   "cell_type": "code",
   "execution_count": 60,
   "metadata": {},
   "outputs": [],
   "source": [
    "dataset['CD_5_7']=central_dif2"
   ]
  },
  {
   "cell_type": "code",
   "execution_count": 61,
   "metadata": {},
   "outputs": [],
   "source": [
    "#ewm\n",
    "ewm_pd = dataset['Signal_power_2_7m'].ewm(span=160).mean()\n",
    "dataset['EMA'] = ewm_pd"
   ]
  },
  {
   "cell_type": "code",
   "execution_count": 62,
   "metadata": {},
   "outputs": [],
   "source": [
    "#ewm\n",
    "ewm_pd1 = dataset['Signal_power_4_7m'].ewm(span=160).mean()\n",
    "dataset['EMA_4_7'] = ewm_pd1"
   ]
  },
  {
   "cell_type": "code",
   "execution_count": 63,
   "metadata": {},
   "outputs": [],
   "source": [
    "#ewm\n",
    "ewm_pd2 = dataset['Signal_power_5_7m'].ewm(span=160).mean()\n",
    "dataset['EMA_5_7'] = ewm_pd2"
   ]
  },
  {
   "cell_type": "code",
   "execution_count": 64,
   "metadata": {},
   "outputs": [],
   "source": [
    "dataset=dataset.drop(['Unnamed: 0','Unnamed: 5','Unnamed: 6','Unnamed: 7','Unnamed: 8'],axis=1)"
   ]
  },
  {
   "cell_type": "code",
   "execution_count": 65,
   "metadata": {},
   "outputs": [
    {
     "data": {
      "text/html": [
       "<div>\n",
       "<style scoped>\n",
       "    .dataframe tbody tr th:only-of-type {\n",
       "        vertical-align: middle;\n",
       "    }\n",
       "\n",
       "    .dataframe tbody tr th {\n",
       "        vertical-align: top;\n",
       "    }\n",
       "\n",
       "    .dataframe thead th {\n",
       "        text-align: right;\n",
       "    }\n",
       "</style>\n",
       "<table border=\"1\" class=\"dataframe\">\n",
       "  <thead>\n",
       "    <tr style=\"text-align: right;\">\n",
       "      <th></th>\n",
       "      <th>Signal_power_2_7m</th>\n",
       "      <th>Signal_power_4_7m</th>\n",
       "      <th>Signal_power_5_7m</th>\n",
       "      <th>Occupancy</th>\n",
       "      <th>K</th>\n",
       "      <th>K4_7</th>\n",
       "      <th>K5_7</th>\n",
       "      <th>Sk</th>\n",
       "      <th>Sk4_7</th>\n",
       "      <th>Sk5_7</th>\n",
       "      <th>...</th>\n",
       "      <th>Max5_7</th>\n",
       "      <th>Min-Max</th>\n",
       "      <th>Min-Max_4_7</th>\n",
       "      <th>Min-Max_5_7</th>\n",
       "      <th>CD</th>\n",
       "      <th>CD_4_7</th>\n",
       "      <th>CD_5_7</th>\n",
       "      <th>EMA</th>\n",
       "      <th>EMA_4_7</th>\n",
       "      <th>EMA_5_7</th>\n",
       "    </tr>\n",
       "  </thead>\n",
       "  <tbody>\n",
       "    <tr>\n",
       "      <td>0</td>\n",
       "      <td>-100.733010</td>\n",
       "      <td>-116.740234</td>\n",
       "      <td>-96.878884</td>\n",
       "      <td>unoccupied</td>\n",
       "      <td>-3.000000</td>\n",
       "      <td>-3.000000</td>\n",
       "      <td>-3.000000</td>\n",
       "      <td>0.000000e+00</td>\n",
       "      <td>0.000000</td>\n",
       "      <td>0.000000e+00</td>\n",
       "      <td>...</td>\n",
       "      <td>-96.878884</td>\n",
       "      <td>-100.733010</td>\n",
       "      <td>-116.740234</td>\n",
       "      <td>-96.878884</td>\n",
       "      <td>1.333956</td>\n",
       "      <td>1.511364</td>\n",
       "      <td>1.398399</td>\n",
       "      <td>-100.733010</td>\n",
       "      <td>-116.740234</td>\n",
       "      <td>-96.878884</td>\n",
       "    </tr>\n",
       "    <tr>\n",
       "      <td>1</td>\n",
       "      <td>-99.399053</td>\n",
       "      <td>-115.228869</td>\n",
       "      <td>-95.480485</td>\n",
       "      <td>unoccupied</td>\n",
       "      <td>-2.000000</td>\n",
       "      <td>-2.000000</td>\n",
       "      <td>-2.000000</td>\n",
       "      <td>-3.189845e-14</td>\n",
       "      <td>0.000000</td>\n",
       "      <td>-3.053058e-14</td>\n",
       "      <td>...</td>\n",
       "      <td>-95.480485</td>\n",
       "      <td>1.333956</td>\n",
       "      <td>1.511364</td>\n",
       "      <td>1.398399</td>\n",
       "      <td>1.964668</td>\n",
       "      <td>-0.794705</td>\n",
       "      <td>-1.858097</td>\n",
       "      <td>-100.061863</td>\n",
       "      <td>-115.979828</td>\n",
       "      <td>-96.175315</td>\n",
       "    </tr>\n",
       "    <tr>\n",
       "      <td>2</td>\n",
       "      <td>-98.768342</td>\n",
       "      <td>-117.534938</td>\n",
       "      <td>-98.736981</td>\n",
       "      <td>unoccupied</td>\n",
       "      <td>-1.500000</td>\n",
       "      <td>-1.500000</td>\n",
       "      <td>-1.500000</td>\n",
       "      <td>-4.058744e-01</td>\n",
       "      <td>0.359054</td>\n",
       "      <td>-1.708018e-01</td>\n",
       "      <td>...</td>\n",
       "      <td>-95.480485</td>\n",
       "      <td>1.964668</td>\n",
       "      <td>2.306069</td>\n",
       "      <td>3.256496</td>\n",
       "      <td>1.685392</td>\n",
       "      <td>-2.901699</td>\n",
       "      <td>-4.812415</td>\n",
       "      <td>-99.625288</td>\n",
       "      <td>-116.504691</td>\n",
       "      <td>-97.039899</td>\n",
       "    </tr>\n",
       "    <tr>\n",
       "      <td>3</td>\n",
       "      <td>-97.713661</td>\n",
       "      <td>-118.130569</td>\n",
       "      <td>-100.292901</td>\n",
       "      <td>unoccupied</td>\n",
       "      <td>-1.150830</td>\n",
       "      <td>-1.154481</td>\n",
       "      <td>-1.450267</td>\n",
       "      <td>-1.749294e-01</td>\n",
       "      <td>0.519093</td>\n",
       "      <td>-4.793412e-02</td>\n",
       "      <td>...</td>\n",
       "      <td>-95.480485</td>\n",
       "      <td>3.019348</td>\n",
       "      <td>2.901699</td>\n",
       "      <td>4.812415</td>\n",
       "      <td>-0.140741</td>\n",
       "      <td>-2.854496</td>\n",
       "      <td>0.196627</td>\n",
       "      <td>-99.138384</td>\n",
       "      <td>-116.918814</td>\n",
       "      <td>-97.868461</td>\n",
       "    </tr>\n",
       "    <tr>\n",
       "      <td>4</td>\n",
       "      <td>-98.909083</td>\n",
       "      <td>-120.389434</td>\n",
       "      <td>-98.540354</td>\n",
       "      <td>unoccupied</td>\n",
       "      <td>-0.680722</td>\n",
       "      <td>-0.775140</td>\n",
       "      <td>-1.143745</td>\n",
       "      <td>-3.390241e-01</td>\n",
       "      <td>-0.313302</td>\n",
       "      <td>1.857926e-01</td>\n",
       "      <td>...</td>\n",
       "      <td>-95.480485</td>\n",
       "      <td>3.019348</td>\n",
       "      <td>5.160565</td>\n",
       "      <td>4.812415</td>\n",
       "      <td>-3.504803</td>\n",
       "      <td>0.164399</td>\n",
       "      <td>1.821965</td>\n",
       "      <td>-99.091370</td>\n",
       "      <td>-117.630399</td>\n",
       "      <td>-98.006220</td>\n",
       "    </tr>\n",
       "    <tr>\n",
       "      <td>...</td>\n",
       "      <td>...</td>\n",
       "      <td>...</td>\n",
       "      <td>...</td>\n",
       "      <td>...</td>\n",
       "      <td>...</td>\n",
       "      <td>...</td>\n",
       "      <td>...</td>\n",
       "      <td>...</td>\n",
       "      <td>...</td>\n",
       "      <td>...</td>\n",
       "      <td>...</td>\n",
       "      <td>...</td>\n",
       "      <td>...</td>\n",
       "      <td>...</td>\n",
       "      <td>...</td>\n",
       "      <td>...</td>\n",
       "      <td>...</td>\n",
       "      <td>...</td>\n",
       "      <td>...</td>\n",
       "      <td>...</td>\n",
       "      <td>...</td>\n",
       "    </tr>\n",
       "    <tr>\n",
       "      <td>262164</td>\n",
       "      <td>-97.690305</td>\n",
       "      <td>-118.010881</td>\n",
       "      <td>-99.833333</td>\n",
       "      <td>unoccupied</td>\n",
       "      <td>-0.385995</td>\n",
       "      <td>1.286782</td>\n",
       "      <td>8.359927</td>\n",
       "      <td>-2.411378e-01</td>\n",
       "      <td>0.015658</td>\n",
       "      <td>1.835762e+00</td>\n",
       "      <td>...</td>\n",
       "      <td>-79.156496</td>\n",
       "      <td>10.865413</td>\n",
       "      <td>17.049770</td>\n",
       "      <td>27.214338</td>\n",
       "      <td>2.133129</td>\n",
       "      <td>-1.719357</td>\n",
       "      <td>-5.908484</td>\n",
       "      <td>-98.540853</td>\n",
       "      <td>-121.017525</td>\n",
       "      <td>-97.652627</td>\n",
       "    </tr>\n",
       "    <tr>\n",
       "      <td>262165</td>\n",
       "      <td>-97.546794</td>\n",
       "      <td>-120.627196</td>\n",
       "      <td>-101.667661</td>\n",
       "      <td>unoccupied</td>\n",
       "      <td>-0.389747</td>\n",
       "      <td>1.286181</td>\n",
       "      <td>8.280178</td>\n",
       "      <td>-2.493430e-01</td>\n",
       "      <td>0.012943</td>\n",
       "      <td>1.824131e+00</td>\n",
       "      <td>...</td>\n",
       "      <td>-79.156496</td>\n",
       "      <td>10.865413</td>\n",
       "      <td>17.049770</td>\n",
       "      <td>27.214338</td>\n",
       "      <td>-0.326100</td>\n",
       "      <td>-4.806594</td>\n",
       "      <td>3.097804</td>\n",
       "      <td>-98.528505</td>\n",
       "      <td>-121.012676</td>\n",
       "      <td>-97.702503</td>\n",
       "    </tr>\n",
       "    <tr>\n",
       "      <td>262166</td>\n",
       "      <td>-98.016405</td>\n",
       "      <td>-122.817475</td>\n",
       "      <td>-96.735528</td>\n",
       "      <td>unoccupied</td>\n",
       "      <td>-0.390696</td>\n",
       "      <td>1.281847</td>\n",
       "      <td>8.420102</td>\n",
       "      <td>-2.523693e-01</td>\n",
       "      <td>0.013495</td>\n",
       "      <td>1.836447e+00</td>\n",
       "      <td>...</td>\n",
       "      <td>-79.156496</td>\n",
       "      <td>10.865413</td>\n",
       "      <td>17.049770</td>\n",
       "      <td>27.214338</td>\n",
       "      <td>-3.052666</td>\n",
       "      <td>-0.270513</td>\n",
       "      <td>7.031414</td>\n",
       "      <td>-98.522143</td>\n",
       "      <td>-121.035096</td>\n",
       "      <td>-97.690491</td>\n",
       "    </tr>\n",
       "    <tr>\n",
       "      <td>262167</td>\n",
       "      <td>-100.599460</td>\n",
       "      <td>-120.897710</td>\n",
       "      <td>-94.636247</td>\n",
       "      <td>unoccupied</td>\n",
       "      <td>-0.382708</td>\n",
       "      <td>1.282363</td>\n",
       "      <td>8.281676</td>\n",
       "      <td>-2.537044e-01</td>\n",
       "      <td>0.011594</td>\n",
       "      <td>1.806304e+00</td>\n",
       "      <td>...</td>\n",
       "      <td>-79.156496</td>\n",
       "      <td>10.865413</td>\n",
       "      <td>17.049770</td>\n",
       "      <td>27.214338</td>\n",
       "      <td>-1.754516</td>\n",
       "      <td>-0.486018</td>\n",
       "      <td>-1.776601</td>\n",
       "      <td>-98.547948</td>\n",
       "      <td>-121.033389</td>\n",
       "      <td>-97.652550</td>\n",
       "    </tr>\n",
       "    <tr>\n",
       "      <td>262168</td>\n",
       "      <td>-99.770921</td>\n",
       "      <td>-123.303493</td>\n",
       "      <td>-98.512130</td>\n",
       "      <td>unoccupied</td>\n",
       "      <td>-0.364641</td>\n",
       "      <td>1.296000</td>\n",
       "      <td>8.290086</td>\n",
       "      <td>-2.592377e-01</td>\n",
       "      <td>0.036273</td>\n",
       "      <td>1.805189e+00</td>\n",
       "      <td>...</td>\n",
       "      <td>-79.156496</td>\n",
       "      <td>10.865413</td>\n",
       "      <td>17.049770</td>\n",
       "      <td>27.214338</td>\n",
       "      <td>0.828539</td>\n",
       "      <td>-2.405783</td>\n",
       "      <td>-3.875882</td>\n",
       "      <td>-98.563141</td>\n",
       "      <td>-121.061589</td>\n",
       "      <td>-97.663228</td>\n",
       "    </tr>\n",
       "  </tbody>\n",
       "</table>\n",
       "<p>262169 rows × 25 columns</p>\n",
       "</div>"
      ],
      "text/plain": [
       "        Signal_power_2_7m  Signal_power_4_7m  Signal_power_5_7m   Occupancy  \\\n",
       "0             -100.733010        -116.740234         -96.878884  unoccupied   \n",
       "1              -99.399053        -115.228869         -95.480485  unoccupied   \n",
       "2              -98.768342        -117.534938         -98.736981  unoccupied   \n",
       "3              -97.713661        -118.130569        -100.292901  unoccupied   \n",
       "4              -98.909083        -120.389434         -98.540354  unoccupied   \n",
       "...                   ...                ...                ...         ...   \n",
       "262164         -97.690305        -118.010881         -99.833333  unoccupied   \n",
       "262165         -97.546794        -120.627196        -101.667661  unoccupied   \n",
       "262166         -98.016405        -122.817475         -96.735528  unoccupied   \n",
       "262167        -100.599460        -120.897710         -94.636247  unoccupied   \n",
       "262168         -99.770921        -123.303493         -98.512130  unoccupied   \n",
       "\n",
       "               K      K4_7      K5_7            Sk     Sk4_7         Sk5_7  \\\n",
       "0      -3.000000 -3.000000 -3.000000  0.000000e+00  0.000000  0.000000e+00   \n",
       "1      -2.000000 -2.000000 -2.000000 -3.189845e-14  0.000000 -3.053058e-14   \n",
       "2      -1.500000 -1.500000 -1.500000 -4.058744e-01  0.359054 -1.708018e-01   \n",
       "3      -1.150830 -1.154481 -1.450267 -1.749294e-01  0.519093 -4.793412e-02   \n",
       "4      -0.680722 -0.775140 -1.143745 -3.390241e-01 -0.313302  1.857926e-01   \n",
       "...          ...       ...       ...           ...       ...           ...   \n",
       "262164 -0.385995  1.286782  8.359927 -2.411378e-01  0.015658  1.835762e+00   \n",
       "262165 -0.389747  1.286181  8.280178 -2.493430e-01  0.012943  1.824131e+00   \n",
       "262166 -0.390696  1.281847  8.420102 -2.523693e-01  0.013495  1.836447e+00   \n",
       "262167 -0.382708  1.282363  8.281676 -2.537044e-01  0.011594  1.806304e+00   \n",
       "262168 -0.364641  1.296000  8.290086 -2.592377e-01  0.036273  1.805189e+00   \n",
       "\n",
       "        ...     Max5_7     Min-Max  Min-Max_4_7  Min-Max_5_7        CD  \\\n",
       "0       ... -96.878884 -100.733010  -116.740234   -96.878884  1.333956   \n",
       "1       ... -95.480485    1.333956     1.511364     1.398399  1.964668   \n",
       "2       ... -95.480485    1.964668     2.306069     3.256496  1.685392   \n",
       "3       ... -95.480485    3.019348     2.901699     4.812415 -0.140741   \n",
       "4       ... -95.480485    3.019348     5.160565     4.812415 -3.504803   \n",
       "...     ...        ...         ...          ...          ...       ...   \n",
       "262164  ... -79.156496   10.865413    17.049770    27.214338  2.133129   \n",
       "262165  ... -79.156496   10.865413    17.049770    27.214338 -0.326100   \n",
       "262166  ... -79.156496   10.865413    17.049770    27.214338 -3.052666   \n",
       "262167  ... -79.156496   10.865413    17.049770    27.214338 -1.754516   \n",
       "262168  ... -79.156496   10.865413    17.049770    27.214338  0.828539   \n",
       "\n",
       "          CD_4_7    CD_5_7         EMA     EMA_4_7    EMA_5_7  \n",
       "0       1.511364  1.398399 -100.733010 -116.740234 -96.878884  \n",
       "1      -0.794705 -1.858097 -100.061863 -115.979828 -96.175315  \n",
       "2      -2.901699 -4.812415  -99.625288 -116.504691 -97.039899  \n",
       "3      -2.854496  0.196627  -99.138384 -116.918814 -97.868461  \n",
       "4       0.164399  1.821965  -99.091370 -117.630399 -98.006220  \n",
       "...          ...       ...         ...         ...        ...  \n",
       "262164 -1.719357 -5.908484  -98.540853 -121.017525 -97.652627  \n",
       "262165 -4.806594  3.097804  -98.528505 -121.012676 -97.702503  \n",
       "262166 -0.270513  7.031414  -98.522143 -121.035096 -97.690491  \n",
       "262167 -0.486018 -1.776601  -98.547948 -121.033389 -97.652550  \n",
       "262168 -2.405783 -3.875882  -98.563141 -121.061589 -97.663228  \n",
       "\n",
       "[262169 rows x 25 columns]"
      ]
     },
     "execution_count": 65,
     "metadata": {},
     "output_type": "execute_result"
    }
   ],
   "source": [
    "dataset"
   ]
  },
  {
   "cell_type": "code",
   "execution_count": 66,
   "metadata": {},
   "outputs": [
    {
     "data": {
      "text/plain": [
       "unoccupied    202583\n",
       "occupied       59586\n",
       "Name: Occupancy, dtype: int64"
      ]
     },
     "execution_count": 66,
     "metadata": {},
     "output_type": "execute_result"
    }
   ],
   "source": [
    "dataset['Occupancy'].value_counts()"
   ]
  },
  {
   "cell_type": "code",
   "execution_count": 67,
   "metadata": {},
   "outputs": [],
   "source": [
    "dataset.loc[(dataset.Occupancy == 'occupied'), 'Occupancy'] = 1\n",
    "dataset.loc[(dataset.Occupancy == 'unoccupied'), 'Occupancy'] = 0"
   ]
  },
  {
   "cell_type": "code",
   "execution_count": 68,
   "metadata": {},
   "outputs": [],
   "source": [
    "#training and testing\n",
    "from sklearn import datasets, linear_model\n",
    "from sklearn.model_selection import train_test_split\n",
    "from matplotlib import pyplot as plt"
   ]
  },
  {
   "cell_type": "code",
   "execution_count": 69,
   "metadata": {},
   "outputs": [],
   "source": [
    "import seaborn as sns\n",
    "from sklearn.metrics import confusion_matrix, classification_report, precision_score\n",
    "import scikitplot as skplt "
   ]
  },
  {
   "cell_type": "code",
   "execution_count": 75,
   "metadata": {},
   "outputs": [
    {
     "ename": "NameError",
     "evalue": "name 'Minmax' is not defined",
     "output_type": "error",
     "traceback": [
      "\u001b[1;31m---------------------------------------------------------------------------\u001b[0m",
      "\u001b[1;31mNameError\u001b[0m                                 Traceback (most recent call last)",
      "\u001b[1;32m<ipython-input-75-a0fe7c08d43e>\u001b[0m in \u001b[0;36m<module>\u001b[1;34m\u001b[0m\n\u001b[0;32m      1\u001b[0m \u001b[0mdataset\u001b[0m\u001b[1;33m[\u001b[0m\u001b[1;34m'Max'\u001b[0m\u001b[1;33m]\u001b[0m\u001b[1;33m=\u001b[0m\u001b[0mdataset\u001b[0m\u001b[1;33m[\u001b[0m\u001b[1;34m'Max_Signal'\u001b[0m\u001b[1;33m]\u001b[0m\u001b[1;33m\u001b[0m\u001b[1;33m\u001b[0m\u001b[0m\n\u001b[1;32m----> 2\u001b[1;33m \u001b[0mdataset\u001b[0m\u001b[1;33m[\u001b[0m\u001b[1;34m'Minmax'\u001b[0m\u001b[1;33m]\u001b[0m\u001b[1;33m=\u001b[0m\u001b[0mMinmax\u001b[0m\u001b[1;33m[\u001b[0m\u001b[1;34m'Min-Max'\u001b[0m\u001b[1;33m]\u001b[0m\u001b[1;33m\u001b[0m\u001b[1;33m\u001b[0m\u001b[0m\n\u001b[0m\u001b[0;32m      3\u001b[0m \u001b[0mdataset\u001b[0m\u001b[1;33m[\u001b[0m\u001b[1;34m'Minmax47'\u001b[0m\u001b[1;33m]\u001b[0m\u001b[1;33m=\u001b[0m\u001b[0mMinmax\u001b[0m\u001b[1;33m[\u001b[0m\u001b[1;34m'Min-Max_4_7'\u001b[0m\u001b[1;33m]\u001b[0m\u001b[1;33m\u001b[0m\u001b[1;33m\u001b[0m\u001b[0m\n\u001b[0;32m      4\u001b[0m \u001b[0mdataset\u001b[0m\u001b[1;33m[\u001b[0m\u001b[1;34m'Minmax57'\u001b[0m\u001b[1;33m]\u001b[0m\u001b[1;33m=\u001b[0m\u001b[0mMinmax\u001b[0m\u001b[1;33m[\u001b[0m\u001b[1;34m'Min-Max_5_7'\u001b[0m\u001b[1;33m]\u001b[0m\u001b[1;33m\u001b[0m\u001b[1;33m\u001b[0m\u001b[0m\n",
      "\u001b[1;31mNameError\u001b[0m: name 'Minmax' is not defined"
     ]
    }
   ],
   "source": [
    "dataset['Max']=dataset['Max_Signal']\n",
    "dataset['Minmax']=Minmax['Min-Max']\n",
    "dataset['Minmax47']=Minmax['Min-Max_4_7']\n",
    "dataset['Minmax57']=Minmax['Min-Max_5_7']"
   ]
  },
  {
   "cell_type": "code",
   "execution_count": 78,
   "metadata": {},
   "outputs": [
    {
     "data": {
      "image/png": "[encoded data removed]",
      "text/plain": [
       "<Figure size 1080x504 with 2 Axes>"
      ]
     },
     "metadata": {
      "needs_background": "light"
     },
     "output_type": "display_data"
    }
   ],
   "source": [
    "yourdata = dataset[['K','K4_7','K5_7','Sk','Sk4_7','Sk5_7','Avg','Avg4_7','Avg5_7','Max_Signal','Max4_7','Max5_7','Min-Max','Min-Max_4_7','Min-Max_5_7','CD','CD_4_7','CD_5_7','Occupancy']]\n",
    "corr_matrix = yourdata.corr()\n",
    "top_corr = corr_matrix.index\n",
    "plt.figure(figsize=(15,7))\n",
    "h=sns.heatmap(dataset[top_corr].corr(),annot=True,cmap=\"RdYlGn\")"
   ]
  },
  {
   "cell_type": "code",
   "execution_count": 79,
   "metadata": {},
   "outputs": [
    {
     "ename": "NameError",
     "evalue": "name 'hel' is not defined",
     "output_type": "error",
     "traceback": [
      "\u001b[1;31m---------------------------------------------------------------------------\u001b[0m",
      "\u001b[1;31mNameError\u001b[0m                                 Traceback (most recent call last)",
      "\u001b[1;32m<ipython-input-79-3b9d31c6e3d1>\u001b[0m in \u001b[0;36m<module>\u001b[1;34m\u001b[0m\n\u001b[1;32m----> 1\u001b[1;33m \u001b[0mhel\u001b[0m\u001b[1;33m\u001b[0m\u001b[1;33m\u001b[0m\u001b[0m\n\u001b[0m",
      "\u001b[1;31mNameError\u001b[0m: name 'hel' is not defined"
     ]
    }
   ],
   "source": [
    "hel"
   ]
  },
  {
   "cell_type": "code",
   "execution_count": 83,
   "metadata": {},
   "outputs": [
    {
     "data": {
      "image/png": "[encoded data removed]",
      "text/plain": [
       "<Figure size 1080x720 with 2 Axes>"
      ]
     },
     "metadata": {
      "needs_background": "light"
     },
     "output_type": "display_data"
    }
   ],
   "source": [
    "yourdata = dataset[['Sk','Sk4_7','Sk5_7','CD','CD_4_7','CD_5_7','Occupancy']]\n",
    "corrmat = yourdata.corr()\n",
    "top_corr_features = corrmat.index\n",
    "plt.figure(figsize=(15,10))\n",
    "#plot heat map\n",
    "g=sns.heatmap(dataset[top_corr_features].corr(),annot=True,cmap=\"RdYlGn\")"
   ]
  },
  {
   "cell_type": "code",
   "execution_count": null,
   "metadata": {},
   "outputs": [],
   "source": [
    "from sklearn.ensemble import ExtraTreesClassifier\n",
    "model = ExtraTreesClassifier()\n",
    "X=dataset.drop(['Occupancy'],axis=1)\n",
    "y=dataset['Occupancy']\n",
    "model.fit(X,y)\n",
    "print(model.feature_importances_) #use inbuilt class feature_importances of tree based classifiers\n",
    "#plot graph of feature importances for better visualization\n",
    "feat_importances = pd.Series(model.feature_importances_, index=X.columns)\n",
    "feat_importances.nlargest(10).plot(kind='barh')\n",
    "plt.show()"
   ]
  },
  {
   "cell_type": "markdown",
   "metadata": {},
   "source": [
    "# Performance of signal power at 2_7m"
   ]
  },
  {
   "cell_type": "code",
   "execution_count": null,
   "metadata": {},
   "outputs": [],
   "source": [
    "#dropped Central difference,skewness as a part of feature selection"
   ]
  },
  {
   "cell_type": "code",
   "execution_count": null,
   "metadata": {},
   "outputs": [],
   "source": [
    "import seaborn as sn"
   ]
  },
  {
   "cell_type": "code",
   "execution_count": null,
   "metadata": {},
   "outputs": [],
   "source": [
    "x=dataset[['Signal_power_2_7m','Kurtosis','Average','Min-Max','Max_Signal','EMA']].values.reshape(262169,6)"
   ]
  },
  {
   "cell_type": "code",
   "execution_count": null,
   "metadata": {},
   "outputs": [],
   "source": [
    "y=dataset['Occupancy'].values.reshape(262169,1)"
   ]
  },
  {
   "cell_type": "code",
   "execution_count": null,
   "metadata": {},
   "outputs": [],
   "source": [
    "X_train, X_test, y_train, y_test = train_test_split(x, y, test_size=0.2,random_state = 1)"
   ]
  },
  {
   "cell_type": "code",
   "execution_count": null,
   "metadata": {},
   "outputs": [],
   "source": [
    "#checking the shape of occupied and unoccupied values"
   ]
  },
  {
   "cell_type": "code",
   "execution_count": null,
   "metadata": {},
   "outputs": [],
   "source": [
    "from imblearn.over_sampling import SMOTE, RandomOverSampler"
   ]
  },
  {
   "cell_type": "code",
   "execution_count": null,
   "metadata": {},
   "outputs": [],
   "source": [
    "y_train=y_train.ravel()"
   ]
  },
  {
   "cell_type": "code",
   "execution_count": null,
   "metadata": {},
   "outputs": [],
   "source": [
    "#Random Over Sampling \n",
    "ros = RandomOverSampler(random_state=0)\n",
    "X_resampled, y_resampled = SMOTE().fit_resample(X_train,y_train)"
   ]
  },
  {
   "cell_type": "code",
   "execution_count": null,
   "metadata": {},
   "outputs": [],
   "source": [
    "train_X=X_resampled\n",
    "train_y=y_resampled\n",
    "test_X=X_test\n",
    "test_y=y_test"
   ]
  },
  {
   "cell_type": "code",
   "execution_count": null,
   "metadata": {},
   "outputs": [],
   "source": [
    "#Logistic Regression\n",
    "from sklearn.model_selection import train_test_split\n",
    "\n",
    "from sklearn.linear_model import LogisticRegression\n",
    "model = LogisticRegression(solver='lbfgs')\n",
    "model.fit(train_X, train_y)\n",
    "predicted_classes = model.predict(test_X)\n",
    "print(accuracy_score(test_y,predicted_classes))"
   ]
  },
  {
   "cell_type": "code",
   "execution_count": null,
   "metadata": {},
   "outputs": [],
   "source": [
    "cm=skplt.metrics.plot_confusion_matrix(test_y,predicted_classes)"
   ]
  },
  {
   "cell_type": "code",
   "execution_count": null,
   "metadata": {},
   "outputs": [],
   "source": [
    "cr1=classification_report(test_y, predicted_classes, target_names=['No', 'Yes'])\n",
    "print(cr1)"
   ]
  },
  {
   "cell_type": "code",
   "execution_count": null,
   "metadata": {},
   "outputs": [],
   "source": [
    "#f score with beta 4\n",
    "fbeta_score(test_y, predicted_classes,beta=4)"
   ]
  },
  {
   "cell_type": "code",
   "execution_count": null,
   "metadata": {},
   "outputs": [],
   "source": [
    "#LDA\n",
    "from sklearn.discriminant_analysis import LinearDiscriminantAnalysis\n",
    "#from sklearn.metrics import accuracy_score\n",
    "lda = LinearDiscriminantAnalysis(solver='svd')\n",
    "y_pred = lda.fit(train_X, train_y).predict(test_X)\n",
    "accuracy_score(test_y, y_pred)"
   ]
  },
  {
   "cell_type": "code",
   "execution_count": null,
   "metadata": {},
   "outputs": [],
   "source": [
    "cm2=skplt.metrics.plot_confusion_matrix(test_y,y_pred)"
   ]
  },
  {
   "cell_type": "code",
   "execution_count": null,
   "metadata": {},
   "outputs": [],
   "source": [
    "cr2=classification_report(test_y, y_pred, target_names=['No', 'Yes'])\n",
    "print(cr2)"
   ]
  },
  {
   "cell_type": "code",
   "execution_count": null,
   "metadata": {},
   "outputs": [],
   "source": [
    "#QDA\n",
    "from sklearn.discriminant_analysis import QuadraticDiscriminantAnalysis\n",
    "clf = QuadraticDiscriminantAnalysis()\n",
    "clf.fit(train_X, train_y)\n",
    "y_predict=clf.predict(test_X)\n",
    "accuracy_score(test_y, y_predict)"
   ]
  },
  {
   "cell_type": "code",
   "execution_count": null,
   "metadata": {},
   "outputs": [],
   "source": [
    "cm3=skplt.metrics.plot_confusion_matrix(test_y,y_predict)"
   ]
  },
  {
   "cell_type": "code",
   "execution_count": null,
   "metadata": {},
   "outputs": [],
   "source": [
    "cr3=classification_report(test_y, y_predict, target_names=['No', 'Yes'])\n",
    "print(cr3)"
   ]
  },
  {
   "cell_type": "code",
   "execution_count": null,
   "metadata": {},
   "outputs": [],
   "source": [
    "from keras.models import Model\n",
    "from keras.layers import Input, Activation\n",
    "from sklearn.neighbors import KNeighborsClassifier\n",
    "from sklearn import metrics"
   ]
  },
  {
   "cell_type": "code",
   "execution_count": null,
   "metadata": {},
   "outputs": [],
   "source": [
    "#Knn\n",
    "knn = KNeighborsClassifier(n_neighbors=5)\n",
    "knn.fit(train_X, train_y)\n",
    "y_pred = knn.predict(test_X)\n",
    "metrics.accuracy_score(test_y, y_pred)"
   ]
  },
  {
   "cell_type": "code",
   "execution_count": null,
   "metadata": {},
   "outputs": [],
   "source": [
    "cm4=skplt.metrics.plot_confusion_matrix(test_y,y_pred)"
   ]
  },
  {
   "cell_type": "code",
   "execution_count": null,
   "metadata": {},
   "outputs": [],
   "source": [
    "cr4=classification_report(test_y, y_pred, target_names=['No', 'Yes'])\n",
    "print(cr4)"
   ]
  },
  {
   "cell_type": "code",
   "execution_count": null,
   "metadata": {},
   "outputs": [],
   "source": [
    "#f score with beta 4\n",
    "fbeta_score(test_y, y_pred,beta=4)"
   ]
  },
  {
   "cell_type": "code",
   "execution_count": null,
   "metadata": {
    "scrolled": true
   },
   "outputs": [],
   "source": [
    "#Random forest\n",
    "from sklearn.ensemble import RandomForestClassifier\n",
    "rfc = RandomForestClassifier()\n",
    "rfc.fit(train_X,train_y)\n",
    "rfc_predict = rfc.predict(test_X)\n",
    "metrics.accuracy_score(test_y, rfc_predict)"
   ]
  },
  {
   "cell_type": "code",
   "execution_count": null,
   "metadata": {},
   "outputs": [],
   "source": [
    "cm5=skplt.metrics.plot_confusion_matrix(test_y,rfc_predict)"
   ]
  },
  {
   "cell_type": "code",
   "execution_count": null,
   "metadata": {},
   "outputs": [],
   "source": [
    "cr5=classification_report(test_y, rfc_predict, target_names=['No', 'Yes'])\n",
    "print(cr5)"
   ]
  },
  {
   "cell_type": "code",
   "execution_count": null,
   "metadata": {},
   "outputs": [],
   "source": [
    "#LR2\n",
    "from sklearn.preprocessing import StandardScaler\n",
    "sc = StandardScaler()\n",
    "\n",
    "# Fit the scaler to the training data and transform\n",
    "X_train_std = sc.fit_transform(train_X)\n",
    "\n",
    "# Apply the scaler to the test data\n",
    "X_test_std = sc.transform(test_X)"
   ]
  },
  {
   "cell_type": "code",
   "execution_count": null,
   "metadata": {},
   "outputs": [],
   "source": [
    "#LR2\n",
    "C=[0.001, 0.01]\n",
    "for c in C:\n",
    "    clf = LogisticRegression(penalty='l2', C=c, solver='liblinear')\n",
    "    clf.fit(train_X, train_y)\n",
    "    print('C:', c)\n",
    "    print('Coefficient of each feature:', clf.coef_)\n",
    "    print('Training accuracy:', clf.score(X_train_std, train_y))\n",
    "    print('Test accuracy:', clf.score(X_test_std, test_y))\n",
    "    print('')"
   ]
  },
  {
   "cell_type": "code",
   "execution_count": null,
   "metadata": {},
   "outputs": [],
   "source": [
    "LR2_pred = clf.predict(test_X)\n",
    "metrics.accuracy_score(test_y, LR2_pred)"
   ]
  },
  {
   "cell_type": "code",
   "execution_count": null,
   "metadata": {},
   "outputs": [],
   "source": [
    "cm_ldr2=skplt.metrics.plot_confusion_matrix(test_y,LR2_pred)"
   ]
  },
  {
   "cell_type": "code",
   "execution_count": null,
   "metadata": {},
   "outputs": [],
   "source": [
    "cr_ldr=classification_report(test_y, LR2_pred, target_names=['No', 'Yes'])\n",
    "print(cr_ldr)"
   ]
  },
  {
   "cell_type": "code",
   "execution_count": null,
   "metadata": {},
   "outputs": [],
   "source": [
    "#f score with beta 4\n",
    "fbeta_score(test_y, LR2_pred,beta=4)"
   ]
  },
  {
   "cell_type": "code",
   "execution_count": null,
   "metadata": {},
   "outputs": [],
   "source": [
    "trainX = np.reshape(train_X, (train_X.shape[0], 1, train_X.shape[1]))\n",
    "testX = np.reshape(test_X, (test_X.shape[0], 1, test_X.shape[1]))"
   ]
  },
  {
   "cell_type": "code",
   "execution_count": null,
   "metadata": {},
   "outputs": [],
   "source": [
    "from keras.models import Sequential\n",
    "from keras.layers import Dense\n",
    "from keras.layers import LSTM\n",
    "from sklearn import metrics"
   ]
  },
  {
   "cell_type": "code",
   "execution_count": null,
   "metadata": {},
   "outputs": [],
   "source": [
    "#bi-lstm\n",
    "model = Sequential()\n",
    "model.add(Bidirectional(LSTM(30, input_shape=(1, 6))))\n",
    "model.add(Dense(1))\n",
    "model.compile(loss='mean_squared_error', optimizer='adam')\n",
    "model.fit(trainX, train_y, epochs=30, batch_size=100, verbose=2)"
   ]
  },
  {
   "cell_type": "code",
   "execution_count": null,
   "metadata": {},
   "outputs": [],
   "source": [
    "y_pred = model.predict_classes(testX, verbose=0)"
   ]
  },
  {
   "cell_type": "code",
   "execution_count": null,
   "metadata": {},
   "outputs": [],
   "source": [
    "accuracy_score(test_y, y_pred, normalize=True)"
   ]
  },
  {
   "cell_type": "code",
   "execution_count": null,
   "metadata": {},
   "outputs": [],
   "source": [
    "cm_lst=skplt.metrics.plot_confusion_matrix(test_y,y_pred)"
   ]
  },
  {
   "cell_type": "code",
   "execution_count": null,
   "metadata": {},
   "outputs": [],
   "source": [
    "cr7=classification_report(test_y, y_pred, target_names=['No', 'Yes'])\n",
    "print(cr7)"
   ]
  },
  {
   "cell_type": "markdown",
   "metadata": {},
   "source": [
    "# Performance of signal power at 4_7m"
   ]
  },
  {
   "cell_type": "code",
   "execution_count": null,
   "metadata": {},
   "outputs": [],
   "source": [
    "#dropped Central_difference_4_7, Skewness_4_7 as a part of feature selection"
   ]
  },
  {
   "cell_type": "code",
   "execution_count": null,
   "metadata": {},
   "outputs": [],
   "source": [
    "x_1=dataset[['Signal_power_4_7m','Kurtosis_4_7','Average_4_7','Min-Max_4_7','Max_Signal_4_7','EMA_4_7']].values.reshape(262169,6)"
   ]
  },
  {
   "cell_type": "code",
   "execution_count": null,
   "metadata": {},
   "outputs": [],
   "source": [
    "y_1=dataset['Occupancy'].values.reshape(262169,1)"
   ]
  },
  {
   "cell_type": "code",
   "execution_count": null,
   "metadata": {},
   "outputs": [],
   "source": [
    "X_train, X_test, y_train, y_test = train_test_split(x_1, y_1, test_size=0.2,random_state = 1)"
   ]
  },
  {
   "cell_type": "code",
   "execution_count": null,
   "metadata": {},
   "outputs": [],
   "source": [
    "y_train=y_train.ravel()"
   ]
  },
  {
   "cell_type": "code",
   "execution_count": null,
   "metadata": {},
   "outputs": [],
   "source": [
    "ros = RandomOverSampler(random_state=0)\n",
    "X_resampled_4, y_resampled_4 = SMOTE().fit_resample(X_train,y_train)"
   ]
  },
  {
   "cell_type": "code",
   "execution_count": null,
   "metadata": {},
   "outputs": [],
   "source": [
    "train_X=X_resampled_4\n",
    "train_y=y_resampled_4\n",
    "test_X=X_test\n",
    "test_y=y_test"
   ]
  },
  {
   "cell_type": "code",
   "execution_count": null,
   "metadata": {},
   "outputs": [],
   "source": [
    "#logistic regression\n",
    "model = LogisticRegression()\n",
    "model.fit(train_X, train_y)\n",
    "predicted_classes = model.predict(test_X)\n",
    "accuracy = accuracy_score(test_y,predicted_classes)\n",
    "parameters = model.coef_\n",
    "accuracy"
   ]
  },
  {
   "cell_type": "code",
   "execution_count": null,
   "metadata": {},
   "outputs": [],
   "source": [
    "cm6=skplt.metrics.plot_confusion_matrix(test_y,predicted_classes)"
   ]
  },
  {
   "cell_type": "code",
   "execution_count": null,
   "metadata": {},
   "outputs": [],
   "source": [
    "cr8=classification_report(test_y, predicted_classes, target_names=['No', 'Yes'])\n",
    "print(cr8)"
   ]
  },
  {
   "cell_type": "code",
   "execution_count": null,
   "metadata": {},
   "outputs": [],
   "source": [
    "#lda\n",
    "lda = LinearDiscriminantAnalysis(solver='svd')\n",
    "y_pred = lda.fit(train_X, train_y).predict(test_X)\n",
    "accuracy_score(test_y, y_pred)"
   ]
  },
  {
   "cell_type": "code",
   "execution_count": null,
   "metadata": {},
   "outputs": [],
   "source": [
    "cm7=skplt.metrics.plot_confusion_matrix(test_y,y_pred)"
   ]
  },
  {
   "cell_type": "code",
   "execution_count": null,
   "metadata": {},
   "outputs": [],
   "source": [
    "cr9=classification_report(test_y, y_pred, target_names=['No', 'Yes'])\n",
    "print(cr9)"
   ]
  },
  {
   "cell_type": "code",
   "execution_count": null,
   "metadata": {},
   "outputs": [],
   "source": [
    "#QDA\n",
    "clf = QuadraticDiscriminantAnalysis()\n",
    "clf.fit(train_X, train_y)\n",
    "y_predict=clf.predict(test_X)\n",
    "accuracy_score(test_y, y_predict)"
   ]
  },
  {
   "cell_type": "code",
   "execution_count": null,
   "metadata": {},
   "outputs": [],
   "source": [
    "cm8=skplt.metrics.plot_confusion_matrix(test_y,y_predict)"
   ]
  },
  {
   "cell_type": "code",
   "execution_count": null,
   "metadata": {},
   "outputs": [],
   "source": [
    "cr10=classification_report(test_y, y_predict, target_names=['No', 'Yes'])\n",
    "print(cr10)"
   ]
  },
  {
   "cell_type": "code",
   "execution_count": null,
   "metadata": {},
   "outputs": [],
   "source": [
    "#Knn\n",
    "knn = KNeighborsClassifier(n_neighbors=5)\n",
    "knn.fit(train_X, train_y)\n",
    "y_pred = knn.predict(test_X)\n",
    "metrics.accuracy_score(test_y, y_pred)"
   ]
  },
  {
   "cell_type": "code",
   "execution_count": null,
   "metadata": {},
   "outputs": [],
   "source": [
    "cm9=skplt.metrics.plot_confusion_matrix(test_y,y_pred)"
   ]
  },
  {
   "cell_type": "code",
   "execution_count": null,
   "metadata": {},
   "outputs": [],
   "source": [
    "cr11=classification_report(test_y, y_pred, target_names=['No', 'Yes'])\n",
    "print(cr11)"
   ]
  },
  {
   "cell_type": "code",
   "execution_count": null,
   "metadata": {},
   "outputs": [],
   "source": [
    "#f score with beta 4\n",
    "fbeta_score(test_y, y_pred,beta=4)"
   ]
  },
  {
   "cell_type": "code",
   "execution_count": null,
   "metadata": {},
   "outputs": [],
   "source": [
    "#random forest\n",
    "rfc = RandomForestClassifier()\n",
    "rfc.fit(train_X,train_y)\n",
    "rfc_predict = rfc.predict(test_X)\n",
    "metrics.accuracy_score(test_y, rfc_predict)"
   ]
  },
  {
   "cell_type": "code",
   "execution_count": null,
   "metadata": {},
   "outputs": [],
   "source": [
    "cm0=skplt.metrics.plot_confusion_matrix(test_y,rfc_predict)"
   ]
  },
  {
   "cell_type": "code",
   "execution_count": null,
   "metadata": {},
   "outputs": [],
   "source": [
    "cr12=classification_report(test_y, rfc_predict, target_names=['No', 'Yes'])\n",
    "print(cr12)"
   ]
  },
  {
   "cell_type": "code",
   "execution_count": null,
   "metadata": {},
   "outputs": [],
   "source": [
    "trainX = np.reshape(train_X, (train_X.shape[0], 1, train_X.shape[1]))\n",
    "testX = np.reshape(test_X, (test_X.shape[0], 1, test_X.shape[1]))"
   ]
  },
  {
   "cell_type": "code",
   "execution_count": null,
   "metadata": {},
   "outputs": [],
   "source": [
    "#bi directional\n",
    "model = Sequential()\n",
    "model.add(Bidirectional(LSTM(30, input_shape=(1, 6))))\n",
    "model.add(Dense(1))\n",
    "model.compile(loss='mean_squared_error', optimizer='adam')\n",
    "model.fit(trainX, train_y, epochs=30, batch_size=100, verbose=2)"
   ]
  },
  {
   "cell_type": "code",
   "execution_count": null,
   "metadata": {},
   "outputs": [],
   "source": [
    "y_pred = model.predict_classes(testX, verbose=0)    "
   ]
  },
  {
   "cell_type": "code",
   "execution_count": null,
   "metadata": {},
   "outputs": [],
   "source": [
    "accuracy_score(test_y, y_pred, normalize=True)"
   ]
  },
  {
   "cell_type": "code",
   "execution_count": null,
   "metadata": {},
   "outputs": [],
   "source": [
    "cm_l_l=skplt.metrics.plot_confusion_matrix(test_y,y_pred)"
   ]
  },
  {
   "cell_type": "code",
   "execution_count": null,
   "metadata": {},
   "outputs": [],
   "source": [
    "cr14=classification_report(test_y, y_pred, target_names=['No', 'Yes'])\n",
    "print(cr14)"
   ]
  },
  {
   "cell_type": "code",
   "execution_count": null,
   "metadata": {},
   "outputs": [],
   "source": [
    "#LR2\n",
    "from sklearn.preprocessing import StandardScaler\n",
    "sc = StandardScaler()\n",
    "\n",
    "# Fit the scaler to the training data and transform\n",
    "X_train_std = sc.fit_transform(train_X)\n",
    "\n",
    "# Apply the scaler to the test data\n",
    "X_test_std = sc.transform(test_X)"
   ]
  },
  {
   "cell_type": "code",
   "execution_count": null,
   "metadata": {},
   "outputs": [],
   "source": [
    "C=[0.001, 0.01]\n",
    "for c in C:\n",
    "    clf = LogisticRegression(penalty='l2', C=c, solver='liblinear')\n",
    "    clf.fit(train_X, train_y)\n",
    "    print('C:', c)\n",
    "    print('Coefficient of each feature:', clf.coef_)\n",
    "    print('Training accuracy:', clf.score(X_train_std, train_y))\n",
    "    print('Test accuracy:', clf.score(X_test_std, test_y))\n",
    "    print('')"
   ]
  },
  {
   "cell_type": "code",
   "execution_count": null,
   "metadata": {},
   "outputs": [],
   "source": [
    "LR2_pred = clf.predict(test_X)\n",
    "metrics.accuracy_score(test_y, LR2_pred)"
   ]
  },
  {
   "cell_type": "code",
   "execution_count": null,
   "metadata": {},
   "outputs": [],
   "source": [
    "cm_ldr2=skplt.metrics.plot_confusion_matrix(test_y,LR2_pred)"
   ]
  },
  {
   "cell_type": "code",
   "execution_count": null,
   "metadata": {},
   "outputs": [],
   "source": [
    "crldr2=classification_report(test_y, LR2_pred, target_names=['No', 'Yes'])\n",
    "print(crldr2)"
   ]
  },
  {
   "cell_type": "code",
   "execution_count": null,
   "metadata": {},
   "outputs": [],
   "source": [
    "#f score with beta 4\n",
    "fbeta_score(test_y, LR2_pred,beta=4)"
   ]
  },
  {
   "cell_type": "markdown",
   "metadata": {},
   "source": [
    "# Performance of signal power at 5_7m"
   ]
  },
  {
   "cell_type": "code",
   "execution_count": null,
   "metadata": {},
   "outputs": [],
   "source": [
    "#dropped Central_difference_5_7, Skewness_5_7 as a part of feature selection"
   ]
  },
  {
   "cell_type": "code",
   "execution_count": null,
   "metadata": {},
   "outputs": [],
   "source": [
    "x_2=dataset[['Signal_power_5_7m','Kurtosis_5_7','Average_5_7','Min-Max_5_7','Max_Signal_5_7','EMA_5_7']].values.reshape(262169,6)"
   ]
  },
  {
   "cell_type": "code",
   "execution_count": null,
   "metadata": {},
   "outputs": [],
   "source": [
    "y_2=dataset['Occupancy'].values.reshape(262169,1)"
   ]
  },
  {
   "cell_type": "code",
   "execution_count": null,
   "metadata": {},
   "outputs": [],
   "source": [
    "X_train, X_test, y_train, y_test = train_test_split(x_2, y_2, test_size=0.2,random_state = 1)"
   ]
  },
  {
   "cell_type": "code",
   "execution_count": null,
   "metadata": {},
   "outputs": [],
   "source": [
    "y_train=y_train.ravel()"
   ]
  },
  {
   "cell_type": "code",
   "execution_count": null,
   "metadata": {},
   "outputs": [],
   "source": [
    "ros = RandomOverSampler(random_state=0)\n",
    "X_resampled_5, y_resampled_5 = SMOTE().fit_resample(X_train,y_train)"
   ]
  },
  {
   "cell_type": "code",
   "execution_count": null,
   "metadata": {},
   "outputs": [],
   "source": [
    "train_X=X_resampled_5\n",
    "train_y=y_resampled_5\n",
    "test_X=X_test\n",
    "test_y=y_test"
   ]
  },
  {
   "cell_type": "code",
   "execution_count": null,
   "metadata": {},
   "outputs": [],
   "source": [
    "#Logistic Regression\n",
    "model = LogisticRegression()\n",
    "model.fit(train_X, train_y)\n",
    "predicted_classes = model.predict(test_X)\n",
    "accuracy = accuracy_score(test_y,predicted_classes)\n",
    "parameters = model.coef_\n",
    "accuracy"
   ]
  },
  {
   "cell_type": "code",
   "execution_count": null,
   "metadata": {},
   "outputs": [],
   "source": [
    "cm11=skplt.metrics.plot_confusion_matrix(test_y,predicted_classes)"
   ]
  },
  {
   "cell_type": "code",
   "execution_count": null,
   "metadata": {},
   "outputs": [],
   "source": [
    "cr15=classification_report(test_y, predicted_classes, target_names=['No', 'Yes'])\n",
    "print(cr15)"
   ]
  },
  {
   "cell_type": "code",
   "execution_count": null,
   "metadata": {},
   "outputs": [],
   "source": [
    "#f score with beta 4\n",
    "fbeta_score(test_y, predicted_classes,beta=4)"
   ]
  },
  {
   "cell_type": "code",
   "execution_count": null,
   "metadata": {},
   "outputs": [],
   "source": [
    "#LDA\n",
    "lda = LinearDiscriminantAnalysis(solver='svd')\n",
    "y_pred = lda.fit(train_X, train_y).predict(test_X)\n",
    "accuracy_score(test_y, y_pred)"
   ]
  },
  {
   "cell_type": "code",
   "execution_count": null,
   "metadata": {},
   "outputs": [],
   "source": [
    "cm12=skplt.metrics.plot_confusion_matrix(test_y,y_pred)"
   ]
  },
  {
   "cell_type": "code",
   "execution_count": null,
   "metadata": {},
   "outputs": [],
   "source": [
    "cr16=classification_report(test_y, y_pred, target_names=['No', 'Yes'])\n",
    "print(cr16)"
   ]
  },
  {
   "cell_type": "code",
   "execution_count": null,
   "metadata": {},
   "outputs": [],
   "source": [
    "#f score with beta 4\n",
    "fbeta_score(test_y, y_pred,beta=4)"
   ]
  },
  {
   "cell_type": "code",
   "execution_count": null,
   "metadata": {},
   "outputs": [],
   "source": [
    "#QDA\n",
    "clf = QuadraticDiscriminantAnalysis()\n",
    "clf.fit(train_X, train_y)\n",
    "y_predict=clf.predict(test_X)\n",
    "accuracy_score(test_y, y_predict)"
   ]
  },
  {
   "cell_type": "code",
   "execution_count": null,
   "metadata": {},
   "outputs": [],
   "source": [
    "cm13=skplt.metrics.plot_confusion_matrix(test_y,y_predict)"
   ]
  },
  {
   "cell_type": "code",
   "execution_count": null,
   "metadata": {},
   "outputs": [],
   "source": [
    "cr17=classification_report(test_y, y_predict, target_names=['No', 'Yes'])\n",
    "print(cr17)"
   ]
  },
  {
   "cell_type": "code",
   "execution_count": null,
   "metadata": {},
   "outputs": [],
   "source": [
    "#f score with beta 4\n",
    "fbeta_score(test_y, y_predict,beta=4)"
   ]
  },
  {
   "cell_type": "code",
   "execution_count": null,
   "metadata": {},
   "outputs": [],
   "source": [
    "#Knn\n",
    "knn = KNeighborsClassifier(n_neighbors=5)\n",
    "knn.fit(train_X, train_y)\n",
    "y_pred = knn.predict(test_X)\n",
    "metrics.accuracy_score(test_y, y_pred)"
   ]
  },
  {
   "cell_type": "code",
   "execution_count": null,
   "metadata": {},
   "outputs": [],
   "source": [
    "cm14=skplt.metrics.plot_confusion_matrix(test_y,y_pred)"
   ]
  },
  {
   "cell_type": "code",
   "execution_count": null,
   "metadata": {},
   "outputs": [],
   "source": [
    "cr18=classification_report(test_y, y_pred, target_names=['No', 'Yes'])\n",
    "print(cr18)"
   ]
  },
  {
   "cell_type": "code",
   "execution_count": null,
   "metadata": {},
   "outputs": [],
   "source": [
    "#f score with beta 4\n",
    "fbeta_score(test_y, y_pred,beta=4)"
   ]
  },
  {
   "cell_type": "code",
   "execution_count": null,
   "metadata": {},
   "outputs": [],
   "source": [
    "#Random forest\n",
    "rfc = RandomForestClassifier()\n",
    "rfc.fit(train_X,train_y)\n",
    "rfc_predict = rfc.predict(test_X)\n",
    "metrics.accuracy_score(test_y, rfc_predict)"
   ]
  },
  {
   "cell_type": "code",
   "execution_count": null,
   "metadata": {},
   "outputs": [],
   "source": [
    "cm15=skplt.metrics.plot_confusion_matrix(test_y,rfc_predict)"
   ]
  },
  {
   "cell_type": "code",
   "execution_count": null,
   "metadata": {},
   "outputs": [],
   "source": [
    "cr19=classification_report(test_y, rfc_predict, target_names=['No', 'Yes'])\n",
    "print(cr19)"
   ]
  },
  {
   "cell_type": "code",
   "execution_count": null,
   "metadata": {},
   "outputs": [],
   "source": [
    "trainX = np.reshape(train_X, (train_X.shape[0], 1, train_X.shape[1]))\n",
    "testX = np.reshape(test_X, (test_X.shape[0], 1, test_X.shape[1]))"
   ]
  },
  {
   "cell_type": "code",
   "execution_count": null,
   "metadata": {},
   "outputs": [],
   "source": [
    "#bi-lstm\n",
    "model = Sequential()\n",
    "model.add(Bidirectional(LSTM(30, input_shape=(1, 6))))\n",
    "model.add(Dense(1))\n",
    "model.compile(loss='mean_squared_error', optimizer='adam')\n",
    "model.fit(trainX, train_y, epochs=30, batch_size=100, verbose=2)"
   ]
  },
  {
   "cell_type": "code",
   "execution_count": null,
   "metadata": {},
   "outputs": [],
   "source": [
    "y_pred = model.predict_classes(testX, verbose=0)  "
   ]
  },
  {
   "cell_type": "code",
   "execution_count": null,
   "metadata": {},
   "outputs": [],
   "source": [
    "accuracy_score(test_y, y_pred, normalize=True)"
   ]
  },
  {
   "cell_type": "code",
   "execution_count": null,
   "metadata": {},
   "outputs": [],
   "source": [
    "cm_l_3=skplt.metrics.plot_confusion_matrix(test_y,y_pred)"
   ]
  },
  {
   "cell_type": "code",
   "execution_count": null,
   "metadata": {},
   "outputs": [],
   "source": [
    "cr21=classification_report(test_y, y_pred, target_names=['No', 'Yes'])\n",
    "print(cr21)"
   ]
  },
  {
   "cell_type": "code",
   "execution_count": null,
   "metadata": {},
   "outputs": [],
   "source": [
    "# logistic reg. L1\n",
    "sc = StandardScaler()\n",
    "\n",
    "# Fit the scaler to the training data and transform\n",
    "X_train_std = sc.fit_transform(train_X)\n",
    "\n",
    "# Apply the scaler to the test data\n",
    "X_test_std = sc.transform(test_X)"
   ]
  },
  {
   "cell_type": "code",
   "execution_count": null,
   "metadata": {},
   "outputs": [],
   "source": [
    "#lr2\n",
    "C=[0.001, 0.01]\n",
    "for c in C:\n",
    "    clf = LogisticRegression(penalty='l2', C=c, solver='liblinear')\n",
    "    clf.fit(train_X, train_y)\n",
    "    print('C:', c)\n",
    "    print('Coefficient of each feature:', clf.coef_)\n",
    "    print('Training accuracy:', clf.score(X_train_std, train_y))\n",
    "    print('Test accuracy:', clf.score(X_test_std, test_y))\n",
    "    print('')"
   ]
  },
  {
   "cell_type": "code",
   "execution_count": null,
   "metadata": {},
   "outputs": [],
   "source": [
    "LR2_pred = clf.predict(test_X)\n",
    "metrics.accuracy_score(test_y, LR2_pred)"
   ]
  },
  {
   "cell_type": "code",
   "execution_count": null,
   "metadata": {},
   "outputs": [],
   "source": [
    "cm_ldr=skplt.metrics.plot_confusion_matrix(test_y,LR2_pred)"
   ]
  },
  {
   "cell_type": "code",
   "execution_count": null,
   "metadata": {},
   "outputs": [],
   "source": [
    "crldr=classification_report(test_y, LR2_pred, target_names=['No', 'Yes'])\n",
    "print(crldr)"
   ]
  },
  {
   "cell_type": "code",
   "execution_count": null,
   "metadata": {},
   "outputs": [],
   "source": [
    "#f score with beta 4\n",
    "fbeta_score(test_y, LR2_pred,beta=4)"
   ]
  },
  {
   "cell_type": "markdown",
   "metadata": {},
   "source": [
    "# Combined"
   ]
  },
  {
   "cell_type": "code",
   "execution_count": null,
   "metadata": {},
   "outputs": [],
   "source": [
    "#dropped Central_difference,Central_difference_4_7,Central_difference_5_7,Skewness_4_7,Skewness_5_7 as a part of feature selection"
   ]
  },
  {
   "cell_type": "code",
   "execution_count": null,
   "metadata": {},
   "outputs": [],
   "source": [
    "x_3=dataset[['Signal_power_2_7m','Signal_power_4_7m','Signal_power_5_7m','Kurtosis','Kurtosis_4_7','Kurtosis_5_7','Average','Average_4_7','Average_5_7','Min-Max','Min-Max_4_7','Min-Max_5_7','Max_Signal','Max_Signal_4_7','Max_Signal_5_7','EMA','EMA_4_7','EMA_5_7']].values.reshape(262169,18)\n"
   ]
  },
  {
   "cell_type": "code",
   "execution_count": null,
   "metadata": {},
   "outputs": [],
   "source": [
    "y_3=dataset['Occupancy'].values.reshape(262169,1)"
   ]
  },
  {
   "cell_type": "code",
   "execution_count": null,
   "metadata": {},
   "outputs": [],
   "source": [
    "X_train, X_test, y_train, y_test = train_test_split(x_3, y_3, test_size=0.2,random_state = 1)"
   ]
  },
  {
   "cell_type": "code",
   "execution_count": null,
   "metadata": {},
   "outputs": [],
   "source": [
    "y_train=y_train.ravel()"
   ]
  },
  {
   "cell_type": "code",
   "execution_count": null,
   "metadata": {},
   "outputs": [],
   "source": [
    "ros = RandomOverSampler(random_state=0)\n",
    "X_resampled, y_resampled = SMOTE().fit_resample(X_train,y_train)"
   ]
  },
  {
   "cell_type": "code",
   "execution_count": null,
   "metadata": {},
   "outputs": [],
   "source": [
    "train_X=X_resampled\n",
    "train_y=y_resampled\n",
    "test_X=X_test\n",
    "test_y=y_test"
   ]
  },
  {
   "cell_type": "code",
   "execution_count": null,
   "metadata": {},
   "outputs": [],
   "source": [
    "#Logistic Regression\n",
    "import numpy as np\n",
    "from sklearn.model_selection import train_test_split\n",
    "\n",
    "from sklearn.linear_model import LogisticRegression\n",
    "from sklearn.metrics import accuracy_score \n",
    "model = LogisticRegression()\n",
    "model.fit(train_X, train_y)\n",
    "predicted_classes = model.predict(test_X)\n",
    "accuracy = accuracy_score(test_y,predicted_classes)\n",
    "parameters = model.coef_\n",
    "accuracy"
   ]
  },
  {
   "cell_type": "code",
   "execution_count": null,
   "metadata": {},
   "outputs": [],
   "source": [
    "cm_14=skplt.metrics.plot_confusion_matrix(test_y,predicted_classes)"
   ]
  },
  {
   "cell_type": "code",
   "execution_count": null,
   "metadata": {},
   "outputs": [],
   "source": [
    "cr22=classification_report(test_y, predicted_classes, target_names=['No', 'Yes'])\n",
    "print(cr22)"
   ]
  },
  {
   "cell_type": "code",
   "execution_count": null,
   "metadata": {},
   "outputs": [],
   "source": [
    "#f score with beta 4\n",
    "fbeta_score(test_y, predicted_classes,beta=4)"
   ]
  },
  {
   "cell_type": "code",
   "execution_count": null,
   "metadata": {},
   "outputs": [],
   "source": [
    "#LDA\n",
    "from sklearn.discriminant_analysis import LinearDiscriminantAnalysis\n",
    "from sklearn.metrics import accuracy_score\n",
    "lda = LinearDiscriminantAnalysis(solver='svd')\n",
    "y_pred = lda.fit(train_X, train_y).predict(test_X)\n",
    "accuracy_score(test_y, y_pred)"
   ]
  },
  {
   "cell_type": "code",
   "execution_count": null,
   "metadata": {},
   "outputs": [],
   "source": [
    "cm15=skplt.metrics.plot_confusion_matrix(test_y,y_pred)\n"
   ]
  },
  {
   "cell_type": "code",
   "execution_count": null,
   "metadata": {},
   "outputs": [],
   "source": [
    "cr23=classification_report(test_y, y_pred, target_names=['No', 'Yes'])\n",
    "print(cr23)"
   ]
  },
  {
   "cell_type": "code",
   "execution_count": null,
   "metadata": {},
   "outputs": [],
   "source": [
    "#QDA\n",
    "from sklearn.discriminant_analysis import QuadraticDiscriminantAnalysis\n",
    "clf = QuadraticDiscriminantAnalysis()\n",
    "clf.fit(train_X, train_y)\n",
    "y_predict=clf.predict(test_X)\n",
    "accuracy_score(test_y, y_predict)"
   ]
  },
  {
   "cell_type": "code",
   "execution_count": null,
   "metadata": {},
   "outputs": [],
   "source": [
    "cm16=skplt.metrics.plot_confusion_matrix(test_y,y_predict)"
   ]
  },
  {
   "cell_type": "code",
   "execution_count": null,
   "metadata": {},
   "outputs": [],
   "source": [
    "cr24=classification_report(test_y, y_predict, target_names=['No', 'Yes'])\n",
    "print(cr24)"
   ]
  },
  {
   "cell_type": "code",
   "execution_count": null,
   "metadata": {},
   "outputs": [],
   "source": [
    "#Knn\n",
    "knn = KNeighborsClassifier(n_neighbors=5)\n",
    "knn.fit(train_X, train_y)\n",
    "y_pred = knn.predict(test_X)\n",
    "metrics.accuracy_score(test_y, y_pred)"
   ]
  },
  {
   "cell_type": "code",
   "execution_count": null,
   "metadata": {},
   "outputs": [],
   "source": [
    "cm17=skplt.metrics.plot_confusion_matrix(test_y,y_pred)"
   ]
  },
  {
   "cell_type": "code",
   "execution_count": null,
   "metadata": {},
   "outputs": [],
   "source": [
    "cr25=classification_report(test_y, y_pred, target_names=['No', 'Yes'])\n",
    "print(cr25)"
   ]
  },
  {
   "cell_type": "code",
   "execution_count": null,
   "metadata": {},
   "outputs": [],
   "source": [
    "#f score with beta 4\n",
    "fbeta_score(test_y, y_pred,beta=4)"
   ]
  },
  {
   "cell_type": "code",
   "execution_count": null,
   "metadata": {},
   "outputs": [],
   "source": [
    "#Random forest\n",
    "from sklearn.ensemble import RandomForestClassifier\n",
    "rfc = RandomForestClassifier()\n",
    "rfc.fit(train_X,train_y)\n",
    "rfc_predict = rfc.predict(test_X)\n",
    "metrics.accuracy_score(test_y, rfc_predict)"
   ]
  },
  {
   "cell_type": "code",
   "execution_count": null,
   "metadata": {},
   "outputs": [],
   "source": [
    "cm18=skplt.metrics.plot_confusion_matrix(test_y,rfc_predict)"
   ]
  },
  {
   "cell_type": "code",
   "execution_count": null,
   "metadata": {},
   "outputs": [],
   "source": [
    "cr26=classification_report(test_y, rfc_predict, target_names=['No', 'Yes'])\n",
    "print(cr26)"
   ]
  },
  {
   "cell_type": "code",
   "execution_count": null,
   "metadata": {},
   "outputs": [],
   "source": [
    "trainX = np.reshape(train_X, (train_X.shape[0], 1, train_X.shape[1]))\n",
    "testX = np.reshape(test_X, (test_X.shape[0], 1, test_X.shape[1]))"
   ]
  },
  {
   "cell_type": "code",
   "execution_count": null,
   "metadata": {},
   "outputs": [],
   "source": [
    "#bilstm\n",
    "model = Sequential()\n",
    "model.add(Bidirectional(LSTM(150, input_shape=(1, 18))))\n",
    "model.add(Dense(1))\n",
    "model.compile(loss='mean_squared_error', optimizer='adam')\n",
    "model.fit(trainX, train_y, epochs=30, batch_size=100, verbose=2)"
   ]
  },
  {
   "cell_type": "code",
   "execution_count": null,
   "metadata": {},
   "outputs": [],
   "source": [
    "y_pred = model.predict_classes(testX, verbose=0)  "
   ]
  },
  {
   "cell_type": "code",
   "execution_count": null,
   "metadata": {},
   "outputs": [],
   "source": [
    "accuracy_score(test_y, y_pred, normalize=True)"
   ]
  },
  {
   "cell_type": "code",
   "execution_count": null,
   "metadata": {},
   "outputs": [],
   "source": [
    "cm20=skplt.metrics.plot_confusion_matrix(test_y,y_pred)\n"
   ]
  },
  {
   "cell_type": "code",
   "execution_count": null,
   "metadata": {},
   "outputs": [],
   "source": [
    "cr28=classification_report(test_y, y_pred, target_names=['No', 'Yes'])\n",
    "print(cr28)"
   ]
  },
  {
   "cell_type": "code",
   "execution_count": null,
   "metadata": {},
   "outputs": [],
   "source": [
    "# logistic reg. L1\n",
    "sc = StandardScaler()\n",
    "\n",
    "# Fit the scaler to the training data and transform\n",
    "X_train_std = sc.fit_transform(train_X)\n",
    "\n",
    "# Apply the scaler to the test data\n",
    "X_test_std = sc.transform(test_X)"
   ]
  },
  {
   "cell_type": "code",
   "execution_count": null,
   "metadata": {},
   "outputs": [],
   "source": [
    "C=[0.001, 0.01]\n",
    "for c in C:\n",
    "    clf = LogisticRegression(penalty='l2', C=c, solver='liblinear')\n",
    "    clf.fit(train_X, train_y)\n",
    "    print('C:', c)\n",
    "    print('Coefficient of each feature:', clf.coef_)\n",
    "    print('Training accuracy:', clf.score(X_train_std, train_y))\n",
    "    print('Test accuracy:', clf.score(X_test_std, test_y))\n",
    "    print('')"
   ]
  },
  {
   "cell_type": "code",
   "execution_count": null,
   "metadata": {},
   "outputs": [],
   "source": [
    "LR2_pred = clf.predict(test_X)\n",
    "metrics.accuracy_score(test_y, LR2_pred)"
   ]
  },
  {
   "cell_type": "code",
   "execution_count": null,
   "metadata": {},
   "outputs": [],
   "source": [
    "cm_ldr=skplt.metrics.plot_confusion_matrix(test_y,LR2_pred)"
   ]
  },
  {
   "cell_type": "code",
   "execution_count": null,
   "metadata": {},
   "outputs": [],
   "source": [
    "crldr=classification_report(test_y, LR2_pred, target_names=['No', 'Yes'])\n",
    "print(crldr)"
   ]
  },
  {
   "cell_type": "code",
   "execution_count": null,
   "metadata": {},
   "outputs": [],
   "source": [
    "#f score with beta 4\n",
    "fbeta_score(test_y, LR2_pred,beta=4)"
   ]
  }
 ],
 "metadata": {
  "kernelspec": {
   "display_name": "Python 3",
   "language": "python",
   "name": "python3"
  },
  "language_info": {
   "codemirror_mode": {
    "name": "ipython",
    "version": 3
   },
   "file_extension": ".py",
   "mimetype": "text/x-python",
   "name": "python",
   "nbconvert_exporter": "python",
   "pygments_lexer": "ipython3",
   "version": "3.7.4"
  }
 },
 "nbformat": 4,
 "nbformat_minor": 2
}
